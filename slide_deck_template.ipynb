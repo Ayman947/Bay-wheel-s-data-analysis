{
 "cells": [
  {
   "cell_type": "markdown",
   "metadata": {
    "slideshow": {
     "slide_type": "slide"
    }
   },
   "source": [
    "# Bay Wheels's trip data analysis\n",
    "#### By Ayman El Taweel "
   ]
  },
  {
   "cell_type": "markdown",
   "metadata": {
    "slideshow": {
     "slide_type": "slide"
    }
   },
   "source": [
    "## Investigation Overview\n",
    "\n",
    " 1) Average of trips duration.\n",
    " \n",
    " 2) When trips' count increases in terms of ( hours - days - months ) \n",
    " \n",
    " 3) Bay wheel's popular user_type.\n",
    " \n",
    " 4) The effect of user_types on trips' duration.\n",
    "\n",
    "## Dataset Overview\n",
    " > *We are going to get some of Wheels's trip dataset insights which includes data about each trip such as : duration, start time and place, end time and place and customer categories as well.*aset to be presented here."
   ]
  },
  {
   "cell_type": "code",
   "execution_count": 1,
   "metadata": {
    "slideshow": {
     "slide_type": "skip"
    }
   },
   "outputs": [],
   "source": [
    "# import all packages and set plots to be embedded inline\n",
    "import numpy as np\n",
    "import pandas as pd\n",
    "import matplotlib.pyplot as plt\n",
    "import seaborn as sb\n",
    "\n",
    "%matplotlib inline\n",
    "\n",
    "# suppress warnings from final output\n",
    "import warnings\n",
    "warnings.simplefilter(\"ignore\")"
   ]
  },
  {
   "cell_type": "code",
   "execution_count": 2,
   "metadata": {
    "slideshow": {
     "slide_type": "skip"
    }
   },
   "outputs": [
    {
     "data": {
      "text/html": [
       "<div>\n",
       "<style scoped>\n",
       "    .dataframe tbody tr th:only-of-type {\n",
       "        vertical-align: middle;\n",
       "    }\n",
       "\n",
       "    .dataframe tbody tr th {\n",
       "        vertical-align: top;\n",
       "    }\n",
       "\n",
       "    .dataframe thead th {\n",
       "        text-align: right;\n",
       "    }\n",
       "</style>\n",
       "<table border=\"1\" class=\"dataframe\">\n",
       "  <thead>\n",
       "    <tr style=\"text-align: right;\">\n",
       "      <th></th>\n",
       "      <th>duration_sec</th>\n",
       "      <th>start_time</th>\n",
       "      <th>end_time</th>\n",
       "      <th>start_station_id</th>\n",
       "      <th>start_station_name</th>\n",
       "      <th>start_station_latitude</th>\n",
       "      <th>start_station_longitude</th>\n",
       "      <th>end_station_id</th>\n",
       "      <th>end_station_name</th>\n",
       "      <th>end_station_latitude</th>\n",
       "      <th>end_station_longitude</th>\n",
       "      <th>bike_id</th>\n",
       "      <th>user_type</th>\n",
       "    </tr>\n",
       "  </thead>\n",
       "  <tbody>\n",
       "    <tr>\n",
       "      <th>0</th>\n",
       "      <td>80110</td>\n",
       "      <td>2017-12-31 16:57:39.6540</td>\n",
       "      <td>2018-01-01 15:12:50.2450</td>\n",
       "      <td>74</td>\n",
       "      <td>Laguna St at Hayes St</td>\n",
       "      <td>37.776435</td>\n",
       "      <td>-122.426244</td>\n",
       "      <td>43</td>\n",
       "      <td>San Francisco Public Library (Grove St at Hyde...</td>\n",
       "      <td>37.778768</td>\n",
       "      <td>-122.415929</td>\n",
       "      <td>96</td>\n",
       "      <td>Customer</td>\n",
       "    </tr>\n",
       "    <tr>\n",
       "      <th>1</th>\n",
       "      <td>78800</td>\n",
       "      <td>2017-12-31 15:56:34.8420</td>\n",
       "      <td>2018-01-01 13:49:55.6170</td>\n",
       "      <td>284</td>\n",
       "      <td>Yerba Buena Center for the Arts (Howard St at ...</td>\n",
       "      <td>37.784872</td>\n",
       "      <td>-122.400876</td>\n",
       "      <td>96</td>\n",
       "      <td>Dolores St at 15th St</td>\n",
       "      <td>37.766210</td>\n",
       "      <td>-122.426614</td>\n",
       "      <td>88</td>\n",
       "      <td>Customer</td>\n",
       "    </tr>\n",
       "    <tr>\n",
       "      <th>2</th>\n",
       "      <td>45768</td>\n",
       "      <td>2017-12-31 22:45:48.4110</td>\n",
       "      <td>2018-01-01 11:28:36.8830</td>\n",
       "      <td>245</td>\n",
       "      <td>Downtown Berkeley BART</td>\n",
       "      <td>37.870348</td>\n",
       "      <td>-122.267764</td>\n",
       "      <td>245</td>\n",
       "      <td>Downtown Berkeley BART</td>\n",
       "      <td>37.870348</td>\n",
       "      <td>-122.267764</td>\n",
       "      <td>1094</td>\n",
       "      <td>Customer</td>\n",
       "    </tr>\n",
       "    <tr>\n",
       "      <th>3</th>\n",
       "      <td>62172</td>\n",
       "      <td>2017-12-31 17:31:10.6360</td>\n",
       "      <td>2018-01-01 10:47:23.5310</td>\n",
       "      <td>60</td>\n",
       "      <td>8th St at Ringold St</td>\n",
       "      <td>37.774520</td>\n",
       "      <td>-122.409449</td>\n",
       "      <td>5</td>\n",
       "      <td>Powell St BART Station (Market St at 5th St)</td>\n",
       "      <td>37.783899</td>\n",
       "      <td>-122.408445</td>\n",
       "      <td>2831</td>\n",
       "      <td>Customer</td>\n",
       "    </tr>\n",
       "    <tr>\n",
       "      <th>4</th>\n",
       "      <td>43603</td>\n",
       "      <td>2017-12-31 14:23:14.0010</td>\n",
       "      <td>2018-01-01 02:29:57.5710</td>\n",
       "      <td>239</td>\n",
       "      <td>Bancroft Way at Telegraph Ave</td>\n",
       "      <td>37.868813</td>\n",
       "      <td>-122.258764</td>\n",
       "      <td>247</td>\n",
       "      <td>Fulton St at Bancroft Way</td>\n",
       "      <td>37.867789</td>\n",
       "      <td>-122.265896</td>\n",
       "      <td>3167</td>\n",
       "      <td>Subscriber</td>\n",
       "    </tr>\n",
       "  </tbody>\n",
       "</table>\n",
       "</div>"
      ],
      "text/plain": [
       "   duration_sec                start_time                  end_time  \\\n",
       "0         80110  2017-12-31 16:57:39.6540  2018-01-01 15:12:50.2450   \n",
       "1         78800  2017-12-31 15:56:34.8420  2018-01-01 13:49:55.6170   \n",
       "2         45768  2017-12-31 22:45:48.4110  2018-01-01 11:28:36.8830   \n",
       "3         62172  2017-12-31 17:31:10.6360  2018-01-01 10:47:23.5310   \n",
       "4         43603  2017-12-31 14:23:14.0010  2018-01-01 02:29:57.5710   \n",
       "\n",
       "   start_station_id                                 start_station_name  \\\n",
       "0                74                              Laguna St at Hayes St   \n",
       "1               284  Yerba Buena Center for the Arts (Howard St at ...   \n",
       "2               245                             Downtown Berkeley BART   \n",
       "3                60                               8th St at Ringold St   \n",
       "4               239                      Bancroft Way at Telegraph Ave   \n",
       "\n",
       "   start_station_latitude  start_station_longitude  end_station_id  \\\n",
       "0               37.776435              -122.426244              43   \n",
       "1               37.784872              -122.400876              96   \n",
       "2               37.870348              -122.267764             245   \n",
       "3               37.774520              -122.409449               5   \n",
       "4               37.868813              -122.258764             247   \n",
       "\n",
       "                                    end_station_name  end_station_latitude  \\\n",
       "0  San Francisco Public Library (Grove St at Hyde...             37.778768   \n",
       "1                              Dolores St at 15th St             37.766210   \n",
       "2                             Downtown Berkeley BART             37.870348   \n",
       "3       Powell St BART Station (Market St at 5th St)             37.783899   \n",
       "4                          Fulton St at Bancroft Way             37.867789   \n",
       "\n",
       "   end_station_longitude  bike_id   user_type  \n",
       "0            -122.415929       96    Customer  \n",
       "1            -122.426614       88    Customer  \n",
       "2            -122.267764     1094    Customer  \n",
       "3            -122.408445     2831    Customer  \n",
       "4            -122.265896     3167  Subscriber  "
      ]
     },
     "execution_count": 2,
     "metadata": {},
     "output_type": "execute_result"
    }
   ],
   "source": [
    "# load in the dataset into a pandas dataframe\n",
    "\n",
    "df = pd.read_csv('2017-fordgobike-tripdata.csv')\n",
    "df.head(5)"
   ]
  },
  {
   "cell_type": "code",
   "execution_count": 3,
   "metadata": {
    "slideshow": {
     "slide_type": "skip"
    }
   },
   "outputs": [],
   "source": [
    "## We will make the column names all in small letters and replace any space by '_'\n",
    "\n",
    "df.rename(columns=lambda x : x.strip().lower().replace(' ','_'),inplace = True)"
   ]
  },
  {
   "cell_type": "code",
   "execution_count": 4,
   "metadata": {
    "slideshow": {
     "slide_type": "skip"
    }
   },
   "outputs": [
    {
     "data": {
      "text/html": [
       "<div>\n",
       "<style scoped>\n",
       "    .dataframe tbody tr th:only-of-type {\n",
       "        vertical-align: middle;\n",
       "    }\n",
       "\n",
       "    .dataframe tbody tr th {\n",
       "        vertical-align: top;\n",
       "    }\n",
       "\n",
       "    .dataframe thead th {\n",
       "        text-align: right;\n",
       "    }\n",
       "</style>\n",
       "<table border=\"1\" class=\"dataframe\">\n",
       "  <thead>\n",
       "    <tr style=\"text-align: right;\">\n",
       "      <th></th>\n",
       "      <th>duration_sec</th>\n",
       "      <th>start_time</th>\n",
       "      <th>end_time</th>\n",
       "      <th>start_station_name</th>\n",
       "      <th>start_station_latitude</th>\n",
       "      <th>start_station_longitude</th>\n",
       "      <th>end_station_name</th>\n",
       "      <th>end_station_latitude</th>\n",
       "      <th>end_station_longitude</th>\n",
       "      <th>bike_id</th>\n",
       "      <th>user_type</th>\n",
       "    </tr>\n",
       "  </thead>\n",
       "  <tbody>\n",
       "    <tr>\n",
       "      <th>0</th>\n",
       "      <td>80110</td>\n",
       "      <td>2017-12-31 16:57:39.6540</td>\n",
       "      <td>2018-01-01 15:12:50.2450</td>\n",
       "      <td>Laguna St at Hayes St</td>\n",
       "      <td>37.776435</td>\n",
       "      <td>-122.426244</td>\n",
       "      <td>San Francisco Public Library (Grove St at Hyde...</td>\n",
       "      <td>37.778768</td>\n",
       "      <td>-122.415929</td>\n",
       "      <td>96</td>\n",
       "      <td>Customer</td>\n",
       "    </tr>\n",
       "    <tr>\n",
       "      <th>1</th>\n",
       "      <td>78800</td>\n",
       "      <td>2017-12-31 15:56:34.8420</td>\n",
       "      <td>2018-01-01 13:49:55.6170</td>\n",
       "      <td>Yerba Buena Center for the Arts (Howard St at ...</td>\n",
       "      <td>37.784872</td>\n",
       "      <td>-122.400876</td>\n",
       "      <td>Dolores St at 15th St</td>\n",
       "      <td>37.766210</td>\n",
       "      <td>-122.426614</td>\n",
       "      <td>88</td>\n",
       "      <td>Customer</td>\n",
       "    </tr>\n",
       "  </tbody>\n",
       "</table>\n",
       "</div>"
      ],
      "text/plain": [
       "   duration_sec                start_time                  end_time  \\\n",
       "0         80110  2017-12-31 16:57:39.6540  2018-01-01 15:12:50.2450   \n",
       "1         78800  2017-12-31 15:56:34.8420  2018-01-01 13:49:55.6170   \n",
       "\n",
       "                                  start_station_name  start_station_latitude  \\\n",
       "0                              Laguna St at Hayes St               37.776435   \n",
       "1  Yerba Buena Center for the Arts (Howard St at ...               37.784872   \n",
       "\n",
       "   start_station_longitude                                   end_station_name  \\\n",
       "0              -122.426244  San Francisco Public Library (Grove St at Hyde...   \n",
       "1              -122.400876                              Dolores St at 15th St   \n",
       "\n",
       "   end_station_latitude  end_station_longitude  bike_id user_type  \n",
       "0             37.778768            -122.415929       96  Customer  \n",
       "1             37.766210            -122.426614       88  Customer  "
      ]
     },
     "execution_count": 4,
     "metadata": {},
     "output_type": "execute_result"
    }
   ],
   "source": [
    "## Dropping unneeded columns\n",
    "df.drop(['start_station_id'],axis=1,inplace=True)\n",
    "df.drop(['end_station_id'],axis=1,inplace=True)\n",
    "df.head(2)"
   ]
  },
  {
   "cell_type": "code",
   "execution_count": 5,
   "metadata": {
    "slideshow": {
     "slide_type": "skip"
    }
   },
   "outputs": [
    {
     "data": {
      "text/plain": [
       "duration_sec                        int64\n",
       "start_time                 datetime64[ns]\n",
       "end_time                   datetime64[ns]\n",
       "start_station_name                 object\n",
       "start_station_latitude            float64\n",
       "start_station_longitude           float64\n",
       "end_station_name                   object\n",
       "end_station_latitude              float64\n",
       "end_station_longitude             float64\n",
       "bike_id                             int64\n",
       "user_type                          object\n",
       "dtype: object"
      ]
     },
     "execution_count": 5,
     "metadata": {},
     "output_type": "execute_result"
    }
   ],
   "source": [
    "## Converting time columns into its right type\n",
    "\n",
    "df.start_time = pd.to_datetime(df.start_time)\n",
    "df.end_time = pd.to_datetime(df.end_time)\n",
    "\n",
    "## Checking the change \n",
    "\n",
    "df.dtypes"
   ]
  },
  {
   "cell_type": "code",
   "execution_count": 6,
   "metadata": {
    "slideshow": {
     "slide_type": "skip"
    }
   },
   "outputs": [
    {
     "data": {
      "text/plain": [
       "duration_sec               0\n",
       "start_time                 0\n",
       "end_time                   0\n",
       "start_station_name         0\n",
       "start_station_latitude     0\n",
       "start_station_longitude    0\n",
       "end_station_name           0\n",
       "end_station_latitude       0\n",
       "end_station_longitude      0\n",
       "bike_id                    0\n",
       "user_type                  0\n",
       "dtype: int64"
      ]
     },
     "execution_count": 6,
     "metadata": {},
     "output_type": "execute_result"
    }
   ],
   "source": [
    "## Getting the count of null values in each column\n",
    "df.isnull().sum()"
   ]
  },
  {
   "cell_type": "code",
   "execution_count": 7,
   "metadata": {
    "slideshow": {
     "slide_type": "skip"
    }
   },
   "outputs": [
    {
     "data": {
      "text/plain": [
       "0"
      ]
     },
     "execution_count": 7,
     "metadata": {},
     "output_type": "execute_result"
    }
   ],
   "source": [
    "## Getting the count of duplicates in our dataset\n",
    "\n",
    "df.duplicated().sum()"
   ]
  },
  {
   "cell_type": "code",
   "execution_count": 8,
   "metadata": {
    "slideshow": {
     "slide_type": "skip"
    }
   },
   "outputs": [
    {
     "data": {
      "text/plain": [
       "10    108937\n",
       "9      98558\n",
       "11     95612\n",
       "12     86539\n",
       "8      83292\n",
       "7      44073\n",
       "6       2689\n",
       "Name: start_month, dtype: int64"
      ]
     },
     "execution_count": 8,
     "metadata": {},
     "output_type": "execute_result"
    }
   ],
   "source": [
    "# defining a function to return (( month)) when each trip had started\n",
    "\n",
    "def get_month(x):\n",
    "    return x.month\n",
    "\n",
    "# creating a column for trip start month\n",
    "df['start_month'] = df['start_time'].map(get_month)\n",
    "\n",
    "\n",
    "# Checking the new column values\n",
    "df.start_month.value_counts()"
   ]
  },
  {
   "cell_type": "code",
   "execution_count": 9,
   "metadata": {
    "slideshow": {
     "slide_type": "skip"
    }
   },
   "outputs": [
    {
     "data": {
      "text/plain": [
       "Tuesday      87865\n",
       "Wednesday    87752\n",
       "Thursday     85243\n",
       "Monday       81410\n",
       "Friday       81165\n",
       "Saturday     50874\n",
       "Sunday       45391\n",
       "Name: start_day, dtype: int64"
      ]
     },
     "execution_count": 9,
     "metadata": {},
     "output_type": "execute_result"
    }
   ],
   "source": [
    "# defining a function to return (( day )) when each trip had started\n",
    "\n",
    "df['start_day'] = df['start_time'].dt.dayofweek\n",
    "\n",
    "def dayName(weekday):\n",
    "    if weekday == 0:\n",
    "        return \"Monday\"\n",
    "    if weekday == 1:\n",
    "        return \"Tuesday\"\n",
    "    if weekday == 2:\n",
    "        return \"Wednesday\"\n",
    "    if weekday == 3:\n",
    "        return \"Thursday\"\n",
    "    if weekday == 4:\n",
    "        return \"Friday\"\n",
    "    if weekday == 5:\n",
    "        return \"Saturday\"\n",
    "    if weekday == 6:\n",
    "        return \"Sunday\"\n",
    "df[['start_day']] = df['start_day'].map(dayName)\n",
    "\n",
    "## checking the new column values\n",
    "\n",
    "\n",
    "df['start_day'].value_counts()"
   ]
  },
  {
   "cell_type": "code",
   "execution_count": 10,
   "metadata": {
    "slideshow": {
     "slide_type": "skip"
    }
   },
   "outputs": [
    {
     "data": {
      "text/plain": [
       "17    60111\n",
       "8     57227\n",
       "18    46088\n",
       "9     45457\n",
       "16    41339\n",
       "15    28448\n",
       "12    27448\n",
       "13    27374\n",
       "7     26800\n",
       "19    26598\n",
       "10    25217\n",
       "14    24900\n",
       "11    24303\n",
       "20    16642\n",
       "21    11993\n",
       "6      8895\n",
       "22     7967\n",
       "23     4867\n",
       "0      2606\n",
       "5      2145\n",
       "1      1377\n",
       "2       860\n",
       "4       640\n",
       "3       398\n",
       "Name: start_hour, dtype: int64"
      ]
     },
     "execution_count": 10,
     "metadata": {},
     "output_type": "execute_result"
    }
   ],
   "source": [
    "# defining a function to return (( hour )) when each trip had started\n",
    "\n",
    "def get_hour(x):\n",
    "    return x.hour\n",
    "\n",
    "# creating a column for trip start month\n",
    "df['start_hour'] = df['start_time'].map(get_hour)\n",
    "\n",
    "\n",
    "# Checking the new column values\n",
    "df.start_hour.value_counts()"
   ]
  },
  {
   "cell_type": "code",
   "execution_count": 11,
   "metadata": {
    "slideshow": {
     "slide_type": "skip"
    }
   },
   "outputs": [
    {
     "data": {
      "text/html": [
       "<div>\n",
       "<style scoped>\n",
       "    .dataframe tbody tr th:only-of-type {\n",
       "        vertical-align: middle;\n",
       "    }\n",
       "\n",
       "    .dataframe tbody tr th {\n",
       "        vertical-align: top;\n",
       "    }\n",
       "\n",
       "    .dataframe thead th {\n",
       "        text-align: right;\n",
       "    }\n",
       "</style>\n",
       "<table border=\"1\" class=\"dataframe\">\n",
       "  <thead>\n",
       "    <tr style=\"text-align: right;\">\n",
       "      <th></th>\n",
       "      <th>duration_minutes</th>\n",
       "      <th>start_time</th>\n",
       "      <th>end_time</th>\n",
       "      <th>start_station_name</th>\n",
       "      <th>start_station_latitude</th>\n",
       "      <th>start_station_longitude</th>\n",
       "      <th>end_station_name</th>\n",
       "      <th>end_station_latitude</th>\n",
       "      <th>end_station_longitude</th>\n",
       "      <th>bike_id</th>\n",
       "      <th>user_type</th>\n",
       "      <th>start_month</th>\n",
       "      <th>start_day</th>\n",
       "      <th>start_hour</th>\n",
       "    </tr>\n",
       "  </thead>\n",
       "  <tbody>\n",
       "    <tr>\n",
       "      <th>0</th>\n",
       "      <td>1335.166667</td>\n",
       "      <td>2017-12-31 16:57:39.654</td>\n",
       "      <td>2018-01-01 15:12:50.245</td>\n",
       "      <td>Laguna St at Hayes St</td>\n",
       "      <td>37.776435</td>\n",
       "      <td>-122.426244</td>\n",
       "      <td>San Francisco Public Library (Grove St at Hyde...</td>\n",
       "      <td>37.778768</td>\n",
       "      <td>-122.415929</td>\n",
       "      <td>96</td>\n",
       "      <td>Customer</td>\n",
       "      <td>12</td>\n",
       "      <td>Sunday</td>\n",
       "      <td>16</td>\n",
       "    </tr>\n",
       "    <tr>\n",
       "      <th>1</th>\n",
       "      <td>1313.333333</td>\n",
       "      <td>2017-12-31 15:56:34.842</td>\n",
       "      <td>2018-01-01 13:49:55.617</td>\n",
       "      <td>Yerba Buena Center for the Arts (Howard St at ...</td>\n",
       "      <td>37.784872</td>\n",
       "      <td>-122.400876</td>\n",
       "      <td>Dolores St at 15th St</td>\n",
       "      <td>37.766210</td>\n",
       "      <td>-122.426614</td>\n",
       "      <td>88</td>\n",
       "      <td>Customer</td>\n",
       "      <td>12</td>\n",
       "      <td>Sunday</td>\n",
       "      <td>15</td>\n",
       "    </tr>\n",
       "  </tbody>\n",
       "</table>\n",
       "</div>"
      ],
      "text/plain": [
       "   duration_minutes              start_time                end_time  \\\n",
       "0       1335.166667 2017-12-31 16:57:39.654 2018-01-01 15:12:50.245   \n",
       "1       1313.333333 2017-12-31 15:56:34.842 2018-01-01 13:49:55.617   \n",
       "\n",
       "                                  start_station_name  start_station_latitude  \\\n",
       "0                              Laguna St at Hayes St               37.776435   \n",
       "1  Yerba Buena Center for the Arts (Howard St at ...               37.784872   \n",
       "\n",
       "   start_station_longitude                                   end_station_name  \\\n",
       "0              -122.426244  San Francisco Public Library (Grove St at Hyde...   \n",
       "1              -122.400876                              Dolores St at 15th St   \n",
       "\n",
       "   end_station_latitude  end_station_longitude  bike_id user_type  \\\n",
       "0             37.778768            -122.415929       96  Customer   \n",
       "1             37.766210            -122.426614       88  Customer   \n",
       "\n",
       "   start_month start_day  start_hour  \n",
       "0           12    Sunday          16  \n",
       "1           12    Sunday          15  "
      ]
     },
     "execution_count": 11,
     "metadata": {},
     "output_type": "execute_result"
    }
   ],
   "source": [
    "# Converting column values to be in minutes\n",
    "df.duration_sec=df.duration_sec / 60\n",
    "\n",
    "# Renaming the column to be relevant\n",
    "df.rename(columns = {'duration_sec':'duration_minutes'}, inplace = True) \n",
    "\n",
    "# Checking the results\n",
    "df.head(2)"
   ]
  },
  {
   "cell_type": "code",
   "execution_count": 12,
   "metadata": {
    "slideshow": {
     "slide_type": "skip"
    }
   },
   "outputs": [],
   "source": [
    "## Defining a function that labels plot axes and tile easily\n",
    "\n",
    "def plotinfo( x , y , z) :\n",
    "    return plt.xlabel(x , fontsize = 10),plt.ylabel(y,fontsize = 10),plt.title(z , fontsize = 20)"
   ]
  },
  {
   "cell_type": "markdown",
   "metadata": {
    "slideshow": {
     "slide_type": "slide"
    }
   },
   "source": [
    "## How much do most trips last? \n",
    "\n",
    "<font color='blue'>Most trips last from 5 to 20 minutes. This may be an inference that most people use bikes as quick transportation mean for only near location.</font> "
   ]
  },
  {
   "cell_type": "code",
   "execution_count": 13,
   "metadata": {
    "slideshow": {
     "slide_type": "subslide"
    }
   },
   "outputs": [
    {
     "data": {
      "image/png": "[encoded data removed]",
      "text/plain": [
       "<Figure size 1080x360 with 1 Axes>"
      ]
     },
     "metadata": {
      "needs_background": "light"
     },
     "output_type": "display_data"
    }
   ],
   "source": [
    "### Duration histogram\n",
    "plt.figure( figsize = ( 15,5));\n",
    "\n",
    "# Transforming the scalue to overcome overplotting\n",
    "bins = 10 ** np.arange(0,3.16+0.1,0.1)\n",
    "ticks = [0.1 , 0.3 , 1, 3 , 7 , 10 , 15 , 30 , 100 , 300 , 1000 ]\n",
    "labels = ['{}'.format(v) for v in ticks]\n",
    "plt.hist(data = df, x = 'duration_minutes', bins = bins);\n",
    "plt.xscale('log')\n",
    "plt.xticks(ticks, labels);\n",
    "plotinfo ( ' duration (minutes)' , 'count of trips' , \"Trips' duraion distribution\");"
   ]
  },
  {
   "cell_type": "markdown",
   "metadata": {
    "collapsed": true,
    "slideshow": {
     "slide_type": "slide"
    }
   },
   "source": [
    "### When did most trips start ?\n",
    "\n",
    "#### *As, we can see trips count increases around<font color='blue'> 8AM and 5PM </font>* \n",
    "#### *This may be beacause people go and return from their <font color='blue'> workplaces, schools </font> and so on at these times.*\n",
    "#### *So, Bay Wheels's should make sure of bikes <font color='blue'> availability </font> at these times in order to keep<font color='blue'>  satisfying </font>  its customers.*"
   ]
  },
  {
   "cell_type": "code",
   "execution_count": 14,
   "metadata": {
    "slideshow": {
     "slide_type": "subslide"
    }
   },
   "outputs": [
    {
     "data": {
      "image/png": "[encoded data removed]",
      "text/plain": [
       "<Figure size 1080x360 with 1 Axes>"
      ]
     },
     "metadata": {
      "needs_background": "light"
     },
     "output_type": "display_data"
    }
   ],
   "source": [
    "### Start_hour plot\n",
    "plt.figure( figsize = ( 15,5));\n",
    "base_color = sb.color_palette()[0]\n",
    "sb.countplot( data = df , x = 'start_hour',color = base_color );\n",
    "plotinfo ( ' Start_hour' , 'count of trips' , 'when does the no. of trips reach its peak?     What are the possible reasons?  ');"
   ]
  },
  {
   "cell_type": "markdown",
   "metadata": {
    "slideshow": {
     "slide_type": "slide"
    }
   },
   "source": [
    "###  Do days of week have effects on trips' count ? \n",
    "\n",
    "#### *As we can see that the number of trips experience a noticeable <font color='blue'> decrease </font> on both \"sunday and saturday\". This makes sense as they are the <font color='blue'> weekly vacation </font>.*"
   ]
  },
  {
   "cell_type": "code",
   "execution_count": 15,
   "metadata": {
    "slideshow": {
     "slide_type": "subslide"
    }
   },
   "outputs": [
    {
     "data": {
      "image/png": "[encoded data removed]",
      "text/plain": [
       "<Figure size 1080x360 with 1 Axes>"
      ]
     },
     "metadata": {
      "needs_background": "light"
     },
     "output_type": "display_data"
    }
   ],
   "source": [
    "## start_day \n",
    "\n",
    "plt.figure( figsize = ( 15,5));\n",
    "base_color = sb.color_palette()[0];\n",
    "sb.countplot( data = df , x = 'start_day' ,color = base_color );\n",
    "plotinfo(' days of week' , 'Trips count' , \"Do days of week have effect on trips' count?\" );"
   ]
  },
  {
   "cell_type": "markdown",
   "metadata": {
    "slideshow": {
     "slide_type": "slide"
    }
   },
   "source": [
    "### What was the trips' count trend over months? WHY ?\n",
    "\n",
    "#### *It's crystal clear that there are no trips in the period from <font color='blue'> January to May </font> ,inclusive, In other words, No trips starts in winter, May be beacuse of snow in the streets.*"
   ]
  },
  {
   "cell_type": "code",
   "execution_count": 16,
   "metadata": {
    "slideshow": {
     "slide_type": "subslide"
    }
   },
   "outputs": [
    {
     "data": {
      "image/png": "[encoded data removed]",
      "text/plain": [
       "<Figure size 1080x360 with 1 Axes>"
      ]
     },
     "metadata": {
      "needs_background": "light"
     },
     "output_type": "display_data"
    }
   ],
   "source": [
    "## start_month plot\n",
    "\n",
    "plt.figure( figsize = ( 15,5));\n",
    "base_color = sb.color_palette()[0];\n",
    "sb.countplot( data = df , x = 'start_month' ,color = base_color);\n",
    "plotinfo(' Months' , 'Trips count' , \"The bikes usage across months\" );"
   ]
  },
  {
   "cell_type": "markdown",
   "metadata": {
    "slideshow": {
     "slide_type": "slide"
    }
   },
   "source": [
    "### What is Bay Wheels's more poplular user_type?\n",
    "\n",
    "#### *The number of trips carried out by subscribers are nearly <font color='blue'> 4 times </font> as of non-subscribers. So, Subscribers are more important for Bay Wheels's.*\n",
    "\n",
    "#### *Also, This ratio makes sense as frequent users tend to subscribe beacause of economic perspective.*"
   ]
  },
  {
   "cell_type": "code",
   "execution_count": 17,
   "metadata": {
    "slideshow": {
     "slide_type": "subslide"
    }
   },
   "outputs": [
    {
     "data": {
      "image/png": "[encoded data removed]",
      "text/plain": [
       "<Figure size 1080x360 with 1 Axes>"
      ]
     },
     "metadata": {
      "needs_background": "light"
     },
     "output_type": "display_data"
    }
   ],
   "source": [
    "## user classification plot\n",
    "\n",
    "plt.figure( figsize = ( 15,5));\n",
    "sb.countplot( data = df , y = 'user_type');\n",
    "plotinfo(' Trips count' , 'Customer classification' , \"Customers count\" );"
   ]
  },
  {
   "cell_type": "markdown",
   "metadata": {
    "slideshow": {
     "slide_type": "slide"
    }
   },
   "source": [
    "### **What are the effects of user_types on both trip's duration and trip's count on different days?**\n",
    "\n",
    "#### *CONCLUSIONS*\n",
    "\n",
    " 1) The <font color='green'>non-subscribers</font> are often higher in terms of trips' duration \n",
    "\n",
    " 2) While <font color='orange'>subscribers</font> are often higher in terms of trips' count.\n",
    "  "
   ]
  },
  {
   "cell_type": "code",
   "execution_count": 18,
   "metadata": {
    "slideshow": {
     "slide_type": "subslide"
    }
   },
   "outputs": [
    {
     "data": {
      "image/png": "[encoded data removed]",
      "text/plain": [
       "<Figure size 2160x720 with 2 Axes>"
      ]
     },
     "metadata": {
      "needs_background": "light"
     },
     "output_type": "display_data"
    }
   ],
   "source": [
    "## Initiating a plot\n",
    "\n",
    "plt.figure(figsize = [30, 10]);\n",
    "\n",
    "## Fisrt subplot:\n",
    "plt.subplot(1, 2, 1);\n",
    "sb.boxplot(data = df, x= 'start_day', y= 'duration_minutes',hue='user_type', palette = 'Dark2');\n",
    "plt.legend( framealpha = 1, title = 'User_type');\n",
    "plt.title('Duration plot',fontsize = 40);\n",
    "plt.ylim((0,100));\n",
    "plt.xticks(fontsize=25, rotation = 15);\n",
    "plt.ylabel('Duration in minutes',fontsize = 20);\n",
    "plt.xlabel('week days', fontsize = 20);\n",
    "plt.legend(loc=2, prop={'size': 25});\n",
    "\n",
    "## Second subplot\n",
    "plt.subplot(1, 2, 2 );\n",
    "ax = sb.countplot(data = df, x = 'start_day', hue = 'user_type',palette = 'Dark2');\n",
    "ax.legend( framealpha = 1, title = 'User_type');\n",
    "plt.title(\"Trips'count plot\",fontsize = 40);\n",
    "plt.ylabel('Trips count',fontsize = 20)\n",
    "plt.xlabel('week days', fontsize = 20);\n",
    "plt.legend(loc=2, prop={'size': 25});\n",
    "plt.xticks(fontsize=25, rotation = 15);"
   ]
  },
  {
   "cell_type": "markdown",
   "metadata": {
    "slideshow": {
     "slide_type": "slide"
    }
   },
   "source": [
    "### **What are the effects of user_types on both trip's duration and trip's count on different months?**\n",
    "\n",
    "#### *This plot gives us the <font color='brown'>same</font>  results and trends  for both duration and trips' count subplots. But It is noteworthy that:*\n",
    "   \n",
    "   1) In <font color='blue'>June</font>, The durations of non-subscribers rides are much higher than other months. \n",
    "   \n",
    "   2) Trips' count reached its <font color='blue'>peak in October</font> then started to fall again as winter was coming."
   ]
  },
  {
   "cell_type": "code",
   "execution_count": 22,
   "metadata": {
    "scrolled": true,
    "slideshow": {
     "slide_type": "notes"
    }
   },
   "outputs": [
    {
     "name": "stderr",
     "output_type": "stream",
     "text": [
      "[NbConvertApp] Converting notebook slide_deck_template.ipynb to slides\n",
      "[NbConvertApp] Writing 483834 bytes to slide_deck_template.slides.html\n",
      "[NbConvertApp] Redirecting reveal.js requests to https://cdnjs.cloudflare.com/ajax/libs/reveal.js/3.5.0\n",
      "Traceback (most recent call last):\n",
      "  File \"C:\\Users\\VGA\\anaconda3\\Scripts\\jupyter-nbconvert-script.py\", line 10, in <module>\n",
      "    sys.exit(main())\n",
      "  File \"C:\\Users\\VGA\\anaconda3\\lib\\site-packages\\jupyter_core\\application.py\", line 268, in launch_instance\n",
      "    return super(JupyterApp, cls).launch_instance(argv=argv, **kwargs)\n",
      "  File \"C:\\Users\\VGA\\anaconda3\\lib\\site-packages\\traitlets\\config\\application.py\", line 664, in launch_instance\n",
      "    app.start()\n",
      "  File \"C:\\Users\\VGA\\anaconda3\\lib\\site-packages\\nbconvert\\nbconvertapp.py\", line 340, in start\n",
      "    self.convert_notebooks()\n",
      "  File \"C:\\Users\\VGA\\anaconda3\\lib\\site-packages\\nbconvert\\nbconvertapp.py\", line 510, in convert_notebooks\n",
      "    self.convert_single_notebook(notebook_filename)\n",
      "  File \"C:\\Users\\VGA\\anaconda3\\lib\\site-packages\\nbconvert\\nbconvertapp.py\", line 483, in convert_single_notebook\n",
      "    self.postprocess_single_notebook(write_results)\n",
      "  File \"C:\\Users\\VGA\\anaconda3\\lib\\site-packages\\nbconvert\\nbconvertapp.py\", line 455, in postprocess_single_notebook\n",
      "    self.postprocessor(write_results)\n",
      "  File \"C:\\Users\\VGA\\anaconda3\\lib\\site-packages\\nbconvert\\postprocessors\\base.py\", line 28, in __call__\n",
      "    self.postprocess(input)\n",
      "  File \"C:\\Users\\VGA\\anaconda3\\lib\\site-packages\\nbconvert\\postprocessors\\serve.py\", line 90, in postprocess\n",
      "    http_server.listen(self.port, address=self.ip)\n",
      "  File \"C:\\Users\\VGA\\anaconda3\\lib\\site-packages\\tornado\\tcpserver.py\", line 151, in listen\n",
      "    sockets = bind_sockets(port, address=address)\n",
      "  File \"C:\\Users\\VGA\\anaconda3\\lib\\site-packages\\tornado\\netutil.py\", line 174, in bind_sockets\n",
      "    sock.bind(sockaddr)\n",
      "OSError: [WinError 10048] Only one usage of each socket address (protocol/network address/port) is normally permitted\n"
     ]
    }
   ],
   "source": [
    "\n",
    "! jupyter nbconvert slide_deck_template.ipynb --to slides --post serve --template output_toggle.tpl\n"
   ]
  },
  {
   "cell_type": "code",
   "execution_count": null,
   "metadata": {},
   "outputs": [],
   "source": []
  }
 ],
 "metadata": {
  "celltoolbar": "Slideshow",
  "kernelspec": {
   "display_name": "Python 3",
   "language": "python",
   "name": "python3"
  },
  "language_info": {
   "codemirror_mode": {
    "name": "ipython",
    "version": 3
   },
   "file_extension": ".py",
   "mimetype": "text/x-python",
   "name": "python",
   "nbconvert_exporter": "python",
   "pygments_lexer": "ipython3",
   "version": "3.7.6"
  }
 },
 "nbformat": 4,
 "nbformat_minor": 2
}
